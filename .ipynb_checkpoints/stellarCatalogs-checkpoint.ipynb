{
 "cells": [
  {
   "cell_type": "code",
   "execution_count": null,
   "metadata": {},
   "outputs": [],
   "source": [
    "import numpy as np\n",
    "import matplotlib.pyplot as plt\n",
    "import scipy.special as spec\n",
    "import pandas as pd\n",
    "from astropy.io import ascii\n",
    "import scipy.stats as stats\n",
    "import requests\n",
    "import astropy.units as u\n",
    "from astropy.coordinates import SkyCoord"
   ]
  },
  {
   "cell_type": "code",
   "execution_count": null,
   "metadata": {},
   "outputs": [],
   "source": [
    "allStars = pd.read_csv(\"dr25_stellar_berger2020.txt\")\n",
    "cleanStars = pd.read_csv(\"dr25_stellar_berger2020_clean_FGKM.txt\")"
   ]
  },
  {
   "cell_type": "code",
   "execution_count": null,
   "metadata": {},
   "outputs": [],
   "source": [
    "mSun = 4.77\n",
    "def set_parameters(stellarCatalog):\n",
    "    # compute the absolute magnitudes from distance\n",
    "    stellarCatalog['absoluteKepmag_DR25'] = stellarCatalog.kepmag - 5 * np.log10(stellarCatalog.dist_DR25/10);\n",
    "    stellarCatalog['absoluteKepmag'] = stellarCatalog.kepmag - 5 * np.log10(stellarCatalog.dist/10);\n",
    "    \n",
    "    stellarCatalog['absoluteFlux_DR25'] = 10**((mSun - stellarCatalog.absoluteKepmag_DR25)/2.5);\n",
    "    stellarCatalog['absoluteFlux'] = 10**((mSun - stellarCatalog.absoluteKepmag)/2.5);\n",
    "    \n",
    "    # compute the colors that match the effective temperatures (use Berger)\n",
    "    teffColors = pd.read_csv(\"teffColorTable.txt\", delim_whitespace=True, comment='#', dtype={\"bitcode\":object})\n",
    "    teffColors = teffColors[teffColors.type==\"2deg\"]\n",
    "    # interpolate teff onto RGB\n",
    "    stellarCatalog[\"teffR\"] = np.interp(stellarCatalog.teff, teffColors.temp, teffColors.R)\n",
    "    stellarCatalog[\"teffG\"] = np.interp(stellarCatalog.teff, teffColors.temp, teffColors.G)\n",
    "    stellarCatalog[\"teffB\"] = np.interp(stellarCatalog.teff, teffColors.temp, teffColors.B)\n",
    "    \n",
    "    # remove problem stars\n",
    "    stellarCatalog = stellarCatalog[stellarCatalog.absoluteFlux_DR25 > 0]\n",
    "    \n",
    "    return stellarCatalog"
   ]
  },
  {
   "cell_type": "code",
   "execution_count": null,
   "metadata": {},
   "outputs": [],
   "source": [
    "allStars = set_parameters(allStars)\n",
    "cleanStars = set_parameters(cleanStars)"
   ]
  },
  {
   "cell_type": "code",
   "execution_count": null,
   "metadata": {},
   "outputs": [],
   "source": [
    "list(allStars)"
   ]
  },
  {
   "cell_type": "code",
   "execution_count": null,
   "metadata": {},
   "outputs": [],
   "source": [
    "# def draw_hr_diagram(stars, whichParameters=\"Berger2020\"):\n",
    "#     plt.style.use(\"dark_background\")\n",
    "\n",
    "#     plt.figure(figsize=(10,10))\n",
    "#     if whichParameters == \"DR25\":\n",
    "#         plt.scatter(stars.teff_DR25, stars.absoluteKepmag_DR25, alpha=0.8, \n",
    "#                     c = np.transpose([stars[\"teffR\"],stars[\"teffG\"],stars[\"teffB\"]]), \n",
    "#                     s = stars[\"radius_DR25\"]**2)\n",
    "#         plt.title('all stars using DR25 stellar parameters');\n",
    "#     elif whichParameters == \"Berger2020\":\n",
    "#         plt.scatter(stars.teff, stars.absoluteKepmag, alpha=0.8, \n",
    "#                     c = np.transpose([stars[\"teffR\"],stars[\"teffG\"],stars[\"teffB\"]]), \n",
    "#                     s = stars[\"radius\"]**2)\n",
    "#         plt.title('all stars using Berger 2020 stellar parameters');\n",
    "#     else:\n",
    "#         raise ValueError('Bad whichParameter');\n",
    "        \n",
    "#     plt.gca().invert_xaxis()\n",
    "#     plt.gca().invert_yaxis()\n",
    "#     xl = plt.xlim()\n",
    "#     yl = plt.ylim()\n",
    "#     plt.xlabel('effective temperature');\n",
    "#     plt.ylabel('absolute magnitude');\n",
    "    \n",
    "def draw_hr_diagram(stars, whichParameters=\"Berger2020\"):\n",
    "    plt.style.use(\"dark_background\")\n",
    "\n",
    "    plt.figure(figsize=(13,13))\n",
    "    plt.yscale(\"log\")\n",
    "    if whichParameters == \"DR25\":\n",
    "        plt.scatter(stars.teff_DR25, stars.absoluteFlux_DR25, alpha=0.8, \n",
    "                    c = np.transpose([stars[\"teffR\"],stars[\"teffG\"],stars[\"teffB\"]]), \n",
    "                    s = stars[\"radius_DR25\"]**2)\n",
    "        plt.title('stars using DR25 stellar parameters', fontsize=24);\n",
    "    elif whichParameters == \"Berger2020\":\n",
    "        plt.scatter(stars.teff, stars.absoluteFlux, alpha=0.8, \n",
    "                    c = np.transpose([stars[\"teffR\"],stars[\"teffG\"],stars[\"teffB\"]]), \n",
    "                    s = stars[\"radius\"]**2)\n",
    "        plt.title('stars using Berger 2020 stellar parameters', fontsize=24);\n",
    "    else:\n",
    "        raise ValueError('Bad whichParameter');\n",
    "    \n",
    "    plt.gca().invert_xaxis()\n",
    "    plt.tick_params(labelsize = 18)\n",
    "    plt.xlabel('effective temperature', fontsize=24);\n",
    "    plt.ylabel('intrinsic brightness (Sun = 1)', fontsize=24);"
   ]
  },
  {
   "cell_type": "code",
   "execution_count": null,
   "metadata": {},
   "outputs": [],
   "source": [
    "draw_hr_diagram(allStars, \"DR25\")"
   ]
  },
  {
   "cell_type": "code",
   "execution_count": null,
   "metadata": {},
   "outputs": [],
   "source": [
    "draw_hr_diagram(allStars, \"Berger2020\")"
   ]
  },
  {
   "cell_type": "code",
   "execution_count": null,
   "metadata": {},
   "outputs": [],
   "source": []
  },
  {
   "cell_type": "code",
   "execution_count": null,
   "metadata": {},
   "outputs": [],
   "source": [
    "draw_hr_diagram(cleanStars, \"Berger2020\")"
   ]
  },
  {
   "cell_type": "code",
   "execution_count": null,
   "metadata": {},
   "outputs": [],
   "source": [
    "draw_hr_diagram(cleanStars, \"DR25\")"
   ]
  },
  {
   "cell_type": "code",
   "execution_count": null,
   "metadata": {},
   "outputs": [],
   "source": [
    "plt.style.use(\"default\")\n",
    "\n",
    "plt.plot(cleanStars.radius, cleanStars.radius_DR25, '.', markerSize=1)\n",
    "plt.plot([0,4], [0,4])\n",
    "plt.xlabel(\"Berger2020 stellar radius (Sun = 1)\");\n",
    "plt.ylabel(\"DR25 stellar radius (Sun = 1)\");"
   ]
  },
  {
   "cell_type": "code",
   "execution_count": null,
   "metadata": {},
   "outputs": [],
   "source": [
    "plt.style.use(\"default\")\n",
    "\n",
    "plt.loglog(cleanStars.radius, cleanStars.radius_DR25, '.', markerSize=1)\n",
    "plt.loglog([1e-1, 1e1], [1e-1, 1e1])\n",
    "plt.xlabel(\"Berger2020 stellar radius (Sun = 1)\");\n",
    "plt.ylabel(\"DR25 stellar radius (Sun = 1)\");"
   ]
  },
  {
   "cell_type": "code",
   "execution_count": null,
   "metadata": {},
   "outputs": [],
   "source": [
    "plt.style.use(\"default\")\n",
    "\n",
    "plt.plot(cleanStars.radius, cleanStars.radius/cleanStars.radius_DR25, '.', markerSize=1, alpha=0.1)\n",
    "plt.xlabel(\"Berger2020 stellar radius (Sun = 1)\");\n",
    "plt.ylabel(\"Berger2020 stellar radius/DR25 stellar radius\");"
   ]
  },
  {
   "cell_type": "code",
   "execution_count": null,
   "metadata": {},
   "outputs": [],
   "source": [
    "plt.style.use(\"default\")\n",
    "\n",
    "plt.semilogy(cleanStars.radius, cleanStars.radius/cleanStars.radius_DR25, '.', markerSize=1)\n",
    "plt.xlabel(\"Berger2020 stellar radius (Sun = 1)\");\n",
    "plt.ylabel(\"Berger2020 stellar radius/DR25 stellar radius\");"
   ]
  },
  {
   "cell_type": "code",
   "execution_count": null,
   "metadata": {},
   "outputs": [],
   "source": [
    "plt.style.use(\"default\")\n",
    "\n",
    "plt.loglog(cleanStars.absoluteFlux, cleanStars.absoluteFlux_DR25, '.', markerSize=1)\n",
    "plt.loglog([1e-3, 1e2], [1e-3, 1e2])\n",
    "plt.xlabel(\"Berger2020 intrinsic brightness (Sun = 1)\");\n",
    "plt.ylabel(\"DR25 intrinsic brightness (Sun = 1)\");"
   ]
  },
  {
   "cell_type": "code",
   "execution_count": null,
   "metadata": {},
   "outputs": [],
   "source": [
    "plt.style.use(\"default\")\n",
    "\n",
    "plt.loglog(cleanStars.absoluteFlux, cleanStars.absoluteFlux/cleanStars.absoluteFlux_DR25, '.', markerSize=1)\n",
    "plt.xlabel(\"Berger2020 intrinsic brightness (Sun = 1)\");\n",
    "plt.ylabel(\"Berger2020 intrinsic brightness/DR25 intrinsic brightness\");"
   ]
  },
  {
   "cell_type": "code",
   "execution_count": null,
   "metadata": {},
   "outputs": [],
   "source": []
  }
 ],
 "metadata": {
  "kernelspec": {
   "display_name": "Python 3",
   "language": "python",
   "name": "python3"
  },
  "language_info": {
   "codemirror_mode": {
    "name": "ipython",
    "version": 3
   },
   "file_extension": ".py",
   "mimetype": "text/x-python",
   "name": "python",
   "nbconvert_exporter": "python",
   "pygments_lexer": "ipython3",
   "version": "3.6.10"
  }
 },
 "nbformat": 4,
 "nbformat_minor": 4
}
