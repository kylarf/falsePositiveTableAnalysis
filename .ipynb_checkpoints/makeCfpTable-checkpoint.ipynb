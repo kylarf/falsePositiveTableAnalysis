{
 "cells": [
  {
   "cell_type": "code",
   "execution_count": 1,
   "metadata": {},
   "outputs": [],
   "source": [
    "import numpy as np\n",
    "import matplotlib.pyplot as plt\n",
    "import scipy.special as spec\n",
    "import pandas as pd\n",
    "from astropy.io import ascii\n",
    "import scipy.stats as stats\n",
    "from ipywidgets import FloatProgress\n",
    "from IPython.display import display\n",
    "import requests\n",
    "import astropy.units as u\n",
    "from astropy.coordinates import SkyCoord"
   ]
  },
  {
   "cell_type": "markdown",
   "metadata": {},
   "source": [
    "Get the KOI catalog from the archive (if we don't already have it)"
   ]
  },
  {
   "cell_type": "code",
   "execution_count": 2,
   "metadata": {},
   "outputs": [
    {
     "name": "stdout",
     "output_type": "stream",
     "text": [
      "Loaded 8054 KOIs\n"
     ]
    }
   ],
   "source": [
    "if True:\n",
    "    from cStringIO import StringIO # only works in python 2.7\n",
    "    urlDr25Koi = \"https://exoplanetarchive.ipac.caltech.edu/cgi-bin/nstedAPI/nph-nstedAPI?table=q1_q17_dr25_koi&select=*\"\n",
    "\n",
    "    r = requests.get(urlDr25Koi)\n",
    "    if r.status_code != requests.codes.ok:\n",
    "        r.raise_for_status()\n",
    "    fh = StringIO(r.content)\n",
    "    dr25Koi = pd.read_csv(fh, dtype={\"kepoi_name\":str})\n",
    "    dr25Koi.to_csv(\"dr25_kois_archive.txt\", index=False)\n",
    "else:\n",
    "    dr25Koi = pd.read_csv(\"dr25_kois_archive.txt\", dtype={\"kepoi_name\":str})\n",
    "\n",
    "print(\"Loaded \" + str(len(dr25Koi)) + \" KOIs\")\n",
    "\n"
   ]
  },
  {
   "cell_type": "markdown",
   "metadata": {},
   "source": [
    "Get the certified false positive table.  We have to download it manually."
   ]
  },
  {
   "cell_type": "code",
   "execution_count": 3,
   "metadata": {},
   "outputs": [],
   "source": [
    "cfpTableName = \"fpwg_2019.09.16_18.35.55.csv\"\n",
    "archiveCfpTable = pd.read_csv(cfpTableName, dtype={\"kepoi_name\":str}, header=71)\n"
   ]
  },
  {
   "cell_type": "code",
   "execution_count": null,
   "metadata": {},
   "outputs": [],
   "source": []
  },
  {
   "cell_type": "markdown",
   "metadata": {},
   "source": [
    "Get the DR25 stellar catalog with updates from Savita's supplement"
   ]
  },
  {
   "cell_type": "code",
   "execution_count": 4,
   "metadata": {},
   "outputs": [],
   "source": [
    "starlist = \"dr25_stellar_updated_feh_all.txt\"\n",
    "kic = pd.read_csv(starlist)\n"
   ]
  },
  {
   "cell_type": "markdown",
   "metadata": {},
   "source": [
    "Now we'll merge these tables together, starting by merging the cfpTable and dr25Koi, using kepoi_name as the key."
   ]
  },
  {
   "cell_type": "code",
   "execution_count": 5,
   "metadata": {},
   "outputs": [],
   "source": [
    "cfpTable = pd.merge(archiveCfpTable, dr25Koi, on=\"kepoi_name\", how=\"inner\")\n",
    "# the only column common to both is kepid, so rename kepid_x to kepid and drop kepid_y\n",
    "cfpTable[\"kepid\"] = cfpTable[\"kepid_x\"]\n",
    "cfpTable = cfpTable.drop([\"kepid_x\", \"kepid_y\"], axis=1)\n"
   ]
  },
  {
   "cell_type": "markdown",
   "metadata": {},
   "source": [
    "Now merge with the stellar table, using \"kepid\" as the key"
   ]
  },
  {
   "cell_type": "code",
   "execution_count": 6,
   "metadata": {},
   "outputs": [],
   "source": [
    "cfpTable = pd.merge(cfpTable, kic, on=\"kepid\", how=\"inner\")\n",
    "# drop ra and dec \n",
    "cfpTable[\"ra\"] = cfpTable[\"ra_x\"]\n",
    "cfpTable[\"dec\"] = cfpTable[\"dec_x\"]\n",
    "cfpTable = cfpTable.drop([\"ra_x\", \"dec_x\", \"ra_y\", \"dec_y\"], axis=1)\n"
   ]
  },
  {
   "cell_type": "code",
   "execution_count": 7,
   "metadata": {},
   "outputs": [
    {
     "data": {
      "text/plain": [
       "8054"
      ]
     },
     "execution_count": 7,
     "metadata": {},
     "output_type": "execute_result"
    }
   ],
   "source": [
    "len(cfpTable)"
   ]
  },
  {
   "cell_type": "markdown",
   "metadata": {},
   "source": [
    "Now cfpTable contains everything we want to know about each entry"
   ]
  },
  {
   "cell_type": "markdown",
   "metadata": {},
   "source": [
    "Let's add Galactic coordinates"
   ]
  },
  {
   "cell_type": "code",
   "execution_count": 8,
   "metadata": {},
   "outputs": [
    {
     "ename": "NotImplementedError",
     "evalue": "cannot make a list of Quantities.  Get list of values with q.value.list()",
     "output_type": "error",
     "traceback": [
      "\u001b[0;31m---------------------------------------------------------------------------\u001b[0m",
      "\u001b[0;31mNotImplementedError\u001b[0m                       Traceback (most recent call last)",
      "\u001b[0;32m<ipython-input-8-f9cfddf7bc9a>\u001b[0m in \u001b[0;36m<module>\u001b[0;34m()\u001b[0m\n\u001b[0;32m----> 1\u001b[0;31m \u001b[0mc\u001b[0m \u001b[0;34m=\u001b[0m \u001b[0mSkyCoord\u001b[0m\u001b[0;34m(\u001b[0m\u001b[0mra\u001b[0m\u001b[0;34m=\u001b[0m\u001b[0mcfpTable\u001b[0m\u001b[0;34m.\u001b[0m\u001b[0mra\u001b[0m\u001b[0;34m*\u001b[0m\u001b[0mu\u001b[0m\u001b[0;34m.\u001b[0m\u001b[0mdegree\u001b[0m\u001b[0;34m,\u001b[0m \u001b[0mdec\u001b[0m\u001b[0;34m=\u001b[0m\u001b[0mcfpTable\u001b[0m\u001b[0;34m.\u001b[0m\u001b[0mdec\u001b[0m\u001b[0;34m*\u001b[0m\u001b[0mu\u001b[0m\u001b[0;34m.\u001b[0m\u001b[0mdegree\u001b[0m\u001b[0;34m,\u001b[0m \u001b[0mframe\u001b[0m\u001b[0;34m=\u001b[0m\u001b[0;34m'icrs'\u001b[0m\u001b[0;34m)\u001b[0m\u001b[0;34m\u001b[0m\u001b[0m\n\u001b[0m\u001b[1;32m      2\u001b[0m \u001b[0mgalLong\u001b[0m \u001b[0;34m=\u001b[0m \u001b[0mnp\u001b[0m\u001b[0;34m.\u001b[0m\u001b[0marray\u001b[0m\u001b[0;34m(\u001b[0m\u001b[0mc\u001b[0m\u001b[0;34m.\u001b[0m\u001b[0mgalactic\u001b[0m\u001b[0;34m.\u001b[0m\u001b[0ml\u001b[0m\u001b[0;34m)\u001b[0m\u001b[0;34m\u001b[0m\u001b[0m\n\u001b[1;32m      3\u001b[0m \u001b[0mgalLat\u001b[0m \u001b[0;34m=\u001b[0m \u001b[0mnp\u001b[0m\u001b[0;34m.\u001b[0m\u001b[0marray\u001b[0m\u001b[0;34m(\u001b[0m\u001b[0mc\u001b[0m\u001b[0;34m.\u001b[0m\u001b[0mgalactic\u001b[0m\u001b[0;34m.\u001b[0m\u001b[0mb\u001b[0m\u001b[0;34m)\u001b[0m\u001b[0;34m\u001b[0m\u001b[0m\n\u001b[1;32m      4\u001b[0m \u001b[0mcfpTable\u001b[0m\u001b[0;34m[\u001b[0m\u001b[0;34m\"galLong\"\u001b[0m\u001b[0;34m]\u001b[0m \u001b[0;34m=\u001b[0m \u001b[0mgalLong\u001b[0m\u001b[0;34m\u001b[0m\u001b[0m\n\u001b[1;32m      5\u001b[0m \u001b[0mcfpTable\u001b[0m\u001b[0;34m[\u001b[0m\u001b[0;34m\"galLat\"\u001b[0m\u001b[0;34m]\u001b[0m \u001b[0;34m=\u001b[0m \u001b[0mgalLat\u001b[0m\u001b[0;34m\u001b[0m\u001b[0m\n",
      "\u001b[0;32m/Users/steve/anaconda3/envs/py2/lib/python2.7/site-packages/astropy/coordinates/sky_coordinate.pyc\u001b[0m in \u001b[0;36m__init__\u001b[0;34m(self, *args, **kwargs)\u001b[0m\n\u001b[1;32m    206\u001b[0m         \u001b[0margs\u001b[0m \u001b[0;34m=\u001b[0m \u001b[0mlist\u001b[0m\u001b[0;34m(\u001b[0m\u001b[0margs\u001b[0m\u001b[0;34m)\u001b[0m  \u001b[0;31m# Make it mutable\u001b[0m\u001b[0;34m\u001b[0m\u001b[0m\n\u001b[1;32m    207\u001b[0m         \u001b[0mcopy\u001b[0m \u001b[0;34m=\u001b[0m \u001b[0mkwargs\u001b[0m\u001b[0;34m.\u001b[0m\u001b[0mpop\u001b[0m\u001b[0;34m(\u001b[0m\u001b[0;34m'copy'\u001b[0m\u001b[0;34m,\u001b[0m \u001b[0mTrue\u001b[0m\u001b[0;34m)\u001b[0m\u001b[0;34m\u001b[0m\u001b[0m\n\u001b[0;32m--> 208\u001b[0;31m         \u001b[0mkwargs\u001b[0m \u001b[0;34m=\u001b[0m \u001b[0mself\u001b[0m\u001b[0;34m.\u001b[0m\u001b[0m_parse_inputs\u001b[0m\u001b[0;34m(\u001b[0m\u001b[0margs\u001b[0m\u001b[0;34m,\u001b[0m \u001b[0mkwargs\u001b[0m\u001b[0;34m)\u001b[0m\u001b[0;34m\u001b[0m\u001b[0m\n\u001b[0m\u001b[1;32m    209\u001b[0m \u001b[0;34m\u001b[0m\u001b[0m\n\u001b[1;32m    210\u001b[0m         \u001b[0mframe\u001b[0m \u001b[0;34m=\u001b[0m \u001b[0mkwargs\u001b[0m\u001b[0;34m[\u001b[0m\u001b[0;34m'frame'\u001b[0m\u001b[0;34m]\u001b[0m\u001b[0;34m\u001b[0m\u001b[0m\n",
      "\u001b[0;32m/Users/steve/anaconda3/envs/py2/lib/python2.7/site-packages/astropy/coordinates/sky_coordinate.pyc\u001b[0m in \u001b[0;36m_parse_inputs\u001b[0;34m(self, args, kwargs)\u001b[0m\n\u001b[1;32m    338\u001b[0m         \u001b[0;31m# Grab any frame-specific attr names like `ra` or `l` or `distance` from kwargs\u001b[0m\u001b[0;34m\u001b[0m\u001b[0;34m\u001b[0m\u001b[0m\n\u001b[1;32m    339\u001b[0m         \u001b[0;31m# and migrate to valid_kwargs.\u001b[0m\u001b[0;34m\u001b[0m\u001b[0;34m\u001b[0m\u001b[0m\n\u001b[0;32m--> 340\u001b[0;31m         \u001b[0mvalid_kwargs\u001b[0m\u001b[0;34m.\u001b[0m\u001b[0mupdate\u001b[0m\u001b[0;34m(\u001b[0m\u001b[0m_get_representation_attrs\u001b[0m\u001b[0;34m(\u001b[0m\u001b[0mframe\u001b[0m\u001b[0;34m,\u001b[0m \u001b[0munits\u001b[0m\u001b[0;34m,\u001b[0m \u001b[0mkwargs\u001b[0m\u001b[0;34m)\u001b[0m\u001b[0;34m)\u001b[0m\u001b[0;34m\u001b[0m\u001b[0m\n\u001b[0m\u001b[1;32m    341\u001b[0m \u001b[0;34m\u001b[0m\u001b[0m\n\u001b[1;32m    342\u001b[0m         \u001b[0;31m# Error if anything is still left in kwargs\u001b[0m\u001b[0;34m\u001b[0m\u001b[0;34m\u001b[0m\u001b[0m\n",
      "\u001b[0;32m/Users/steve/anaconda3/envs/py2/lib/python2.7/site-packages/astropy/coordinates/sky_coordinate.pyc\u001b[0m in \u001b[0;36m_get_representation_attrs\u001b[0;34m(frame, units, kwargs)\u001b[0m\n\u001b[1;32m   1852\u001b[0m         \u001b[0mvalue\u001b[0m \u001b[0;34m=\u001b[0m \u001b[0mkwargs\u001b[0m\u001b[0;34m.\u001b[0m\u001b[0mpop\u001b[0m\u001b[0;34m(\u001b[0m\u001b[0mframe_attr_name\u001b[0m\u001b[0;34m,\u001b[0m \u001b[0mNone\u001b[0m\u001b[0;34m)\u001b[0m\u001b[0;34m\u001b[0m\u001b[0m\n\u001b[1;32m   1853\u001b[0m         \u001b[0;32mif\u001b[0m \u001b[0mvalue\u001b[0m \u001b[0;32mis\u001b[0m \u001b[0;32mnot\u001b[0m \u001b[0mNone\u001b[0m\u001b[0;34m:\u001b[0m\u001b[0;34m\u001b[0m\u001b[0m\n\u001b[0;32m-> 1854\u001b[0;31m             \u001b[0mvalid_kwargs\u001b[0m\u001b[0;34m[\u001b[0m\u001b[0mframe_attr_name\u001b[0m\u001b[0;34m]\u001b[0m \u001b[0;34m=\u001b[0m \u001b[0mrepr_attr_class\u001b[0m\u001b[0;34m(\u001b[0m\u001b[0mvalue\u001b[0m\u001b[0;34m,\u001b[0m \u001b[0munit\u001b[0m\u001b[0;34m=\u001b[0m\u001b[0munit\u001b[0m\u001b[0;34m)\u001b[0m\u001b[0;34m\u001b[0m\u001b[0m\n\u001b[0m\u001b[1;32m   1855\u001b[0m \u001b[0;34m\u001b[0m\u001b[0m\n\u001b[1;32m   1856\u001b[0m     \u001b[0;32mreturn\u001b[0m \u001b[0mvalid_kwargs\u001b[0m\u001b[0;34m\u001b[0m\u001b[0m\n",
      "\u001b[0;32m/Users/steve/anaconda3/envs/py2/lib/python2.7/site-packages/astropy/coordinates/angles.pyc\u001b[0m in \u001b[0;36m__new__\u001b[0;34m(cls, angle, unit, wrap_angle, **kwargs)\u001b[0m\n\u001b[1;32m    622\u001b[0m             raise TypeError(\"A Longitude angle cannot be created from \"\n\u001b[1;32m    623\u001b[0m                             \"a Latitude angle.\")\n\u001b[0;32m--> 624\u001b[0;31m         \u001b[0mself\u001b[0m \u001b[0;34m=\u001b[0m \u001b[0msuper\u001b[0m\u001b[0;34m(\u001b[0m\u001b[0mLongitude\u001b[0m\u001b[0;34m,\u001b[0m \u001b[0mcls\u001b[0m\u001b[0;34m)\u001b[0m\u001b[0;34m.\u001b[0m\u001b[0m__new__\u001b[0m\u001b[0;34m(\u001b[0m\u001b[0mcls\u001b[0m\u001b[0;34m,\u001b[0m \u001b[0mangle\u001b[0m\u001b[0;34m,\u001b[0m \u001b[0munit\u001b[0m\u001b[0;34m=\u001b[0m\u001b[0munit\u001b[0m\u001b[0;34m,\u001b[0m \u001b[0;34m**\u001b[0m\u001b[0mkwargs\u001b[0m\u001b[0;34m)\u001b[0m\u001b[0;34m\u001b[0m\u001b[0m\n\u001b[0m\u001b[1;32m    625\u001b[0m         \u001b[0;32mif\u001b[0m \u001b[0mwrap_angle\u001b[0m \u001b[0;32mis\u001b[0m \u001b[0mNone\u001b[0m\u001b[0;34m:\u001b[0m\u001b[0;34m\u001b[0m\u001b[0m\n\u001b[1;32m    626\u001b[0m             \u001b[0mwrap_angle\u001b[0m \u001b[0;34m=\u001b[0m \u001b[0mgetattr\u001b[0m\u001b[0;34m(\u001b[0m\u001b[0mangle\u001b[0m\u001b[0;34m,\u001b[0m \u001b[0;34m'wrap_angle'\u001b[0m\u001b[0;34m,\u001b[0m \u001b[0mself\u001b[0m\u001b[0;34m.\u001b[0m\u001b[0m_default_wrap_angle\u001b[0m\u001b[0;34m)\u001b[0m\u001b[0;34m\u001b[0m\u001b[0m\n",
      "\u001b[0;32m/Users/steve/anaconda3/envs/py2/lib/python2.7/site-packages/astropy/coordinates/angles.pyc\u001b[0m in \u001b[0;36m__new__\u001b[0;34m(cls, angle, unit, dtype, copy)\u001b[0m\n\u001b[1;32m    106\u001b[0m                     \u001b[0mangle\u001b[0m \u001b[0;34m=\u001b[0m \u001b[0mu\u001b[0m\u001b[0;34m.\u001b[0m\u001b[0mQuantity\u001b[0m\u001b[0;34m(\u001b[0m\u001b[0mangle\u001b[0m\u001b[0;34m,\u001b[0m \u001b[0mangle_unit\u001b[0m\u001b[0;34m,\u001b[0m \u001b[0mcopy\u001b[0m\u001b[0;34m=\u001b[0m\u001b[0mFalse\u001b[0m\u001b[0;34m)\u001b[0m\u001b[0;34m\u001b[0m\u001b[0m\n\u001b[1;32m    107\u001b[0m \u001b[0;34m\u001b[0m\u001b[0m\n\u001b[0;32m--> 108\u001b[0;31m             elif (isiterable(angle) and\n\u001b[0m\u001b[1;32m    109\u001b[0m                   not (isinstance(angle, np.ndarray) and\n\u001b[1;32m    110\u001b[0m                        angle.dtype.kind not in 'SUVO')):\n",
      "\u001b[0;32m/Users/steve/anaconda3/envs/py2/lib/python2.7/site-packages/astropy/utils/misc.pyc\u001b[0m in \u001b[0;36misiterable\u001b[0;34m(obj)\u001b[0m\n\u001b[1;32m     43\u001b[0m \u001b[0;34m\u001b[0m\u001b[0m\n\u001b[1;32m     44\u001b[0m     \u001b[0;32mtry\u001b[0m\u001b[0;34m:\u001b[0m\u001b[0;34m\u001b[0m\u001b[0m\n\u001b[0;32m---> 45\u001b[0;31m         \u001b[0miter\u001b[0m\u001b[0;34m(\u001b[0m\u001b[0mobj\u001b[0m\u001b[0;34m)\u001b[0m\u001b[0;34m\u001b[0m\u001b[0m\n\u001b[0m\u001b[1;32m     46\u001b[0m         \u001b[0;32mreturn\u001b[0m \u001b[0mTrue\u001b[0m\u001b[0;34m\u001b[0m\u001b[0m\n\u001b[1;32m     47\u001b[0m     \u001b[0;32mexcept\u001b[0m \u001b[0mTypeError\u001b[0m\u001b[0;34m:\u001b[0m\u001b[0;34m\u001b[0m\u001b[0m\n",
      "\u001b[0;32m/Users/steve/anaconda3/envs/py2/lib/python2.7/site-packages/pandas/core/base.pyc\u001b[0m in \u001b[0;36m__iter__\u001b[0;34m(self)\u001b[0m\n\u001b[1;32m    918\u001b[0m         \u001b[0;34m(\u001b[0m\u001b[0;32mfor\u001b[0m \u001b[0mTimestamp\u001b[0m\u001b[0;34m/\u001b[0m\u001b[0mTimedelta\u001b[0m\u001b[0;34m/\u001b[0m\u001b[0mInterval\u001b[0m\u001b[0;34m/\u001b[0m\u001b[0mPeriod\u001b[0m\u001b[0;34m)\u001b[0m\u001b[0;34m\u001b[0m\u001b[0m\n\u001b[1;32m    919\u001b[0m         \"\"\"\n\u001b[0;32m--> 920\u001b[0;31m         \u001b[0;32mreturn\u001b[0m \u001b[0miter\u001b[0m\u001b[0;34m(\u001b[0m\u001b[0mself\u001b[0m\u001b[0;34m.\u001b[0m\u001b[0mtolist\u001b[0m\u001b[0;34m(\u001b[0m\u001b[0;34m)\u001b[0m\u001b[0;34m)\u001b[0m\u001b[0;34m\u001b[0m\u001b[0m\n\u001b[0m\u001b[1;32m    921\u001b[0m \u001b[0;34m\u001b[0m\u001b[0m\n\u001b[1;32m    922\u001b[0m     \u001b[0;34m@\u001b[0m\u001b[0mcache_readonly\u001b[0m\u001b[0;34m\u001b[0m\u001b[0m\n",
      "\u001b[0;32m/Users/steve/anaconda3/envs/py2/lib/python2.7/site-packages/pandas/core/base.pyc\u001b[0m in \u001b[0;36mtolist\u001b[0;34m(self)\u001b[0m\n\u001b[1;32m    908\u001b[0m             \u001b[0;32mreturn\u001b[0m \u001b[0mlist\u001b[0m\u001b[0;34m(\u001b[0m\u001b[0mself\u001b[0m\u001b[0;34m.\u001b[0m\u001b[0m_values\u001b[0m\u001b[0;34m)\u001b[0m\u001b[0;34m\u001b[0m\u001b[0m\n\u001b[1;32m    909\u001b[0m         \u001b[0;32melse\u001b[0m\u001b[0;34m:\u001b[0m\u001b[0;34m\u001b[0m\u001b[0m\n\u001b[0;32m--> 910\u001b[0;31m             \u001b[0;32mreturn\u001b[0m \u001b[0mself\u001b[0m\u001b[0;34m.\u001b[0m\u001b[0m_values\u001b[0m\u001b[0;34m.\u001b[0m\u001b[0mtolist\u001b[0m\u001b[0;34m(\u001b[0m\u001b[0;34m)\u001b[0m\u001b[0;34m\u001b[0m\u001b[0m\n\u001b[0m\u001b[1;32m    911\u001b[0m \u001b[0;34m\u001b[0m\u001b[0m\n\u001b[1;32m    912\u001b[0m     \u001b[0;32mdef\u001b[0m \u001b[0m__iter__\u001b[0m\u001b[0;34m(\u001b[0m\u001b[0mself\u001b[0m\u001b[0;34m)\u001b[0m\u001b[0;34m:\u001b[0m\u001b[0;34m\u001b[0m\u001b[0m\n",
      "\u001b[0;32m/Users/steve/anaconda3/envs/py2/lib/python2.7/site-packages/astropy/units/quantity.pyc\u001b[0m in \u001b[0;36mtolist\u001b[0;34m(self)\u001b[0m\n\u001b[1;32m   1397\u001b[0m \u001b[0;34m\u001b[0m\u001b[0m\n\u001b[1;32m   1398\u001b[0m     \u001b[0;32mdef\u001b[0m \u001b[0mtolist\u001b[0m\u001b[0;34m(\u001b[0m\u001b[0mself\u001b[0m\u001b[0;34m)\u001b[0m\u001b[0;34m:\u001b[0m\u001b[0;34m\u001b[0m\u001b[0m\n\u001b[0;32m-> 1399\u001b[0;31m         raise NotImplementedError(\"cannot make a list of Quantities.  Get \"\n\u001b[0m\u001b[1;32m   1400\u001b[0m                                   \"list of values with q.value.list()\")\n\u001b[1;32m   1401\u001b[0m \u001b[0;34m\u001b[0m\u001b[0m\n",
      "\u001b[0;31mNotImplementedError\u001b[0m: cannot make a list of Quantities.  Get list of values with q.value.list()"
     ]
    }
   ],
   "source": [
    "c = SkyCoord(ra=cfpTable.ra*u.degree, dec=cfpTable.dec*u.degree, frame='icrs')\n",
    "galLong = np.array(c.galactic.l)\n",
    "galLat = np.array(c.galactic.b)\n",
    "cfpTable[\"galLong\"] = galLong\n",
    "cfpTable[\"galLat\"] = galLat\n"
   ]
  },
  {
   "cell_type": "code",
   "execution_count": 9,
   "metadata": {
    "scrolled": false
   },
   "outputs": [
    {
     "data": {
      "text/plain": [
       "['rowid',\n",
       " 'kepoi_name',\n",
       " 'fpwg_koi_period',\n",
       " 'fpwg_disp_status',\n",
       " 'fpwg_disp_source',\n",
       " 'fpwg_disp_eb',\n",
       " 'fpwg_disp_offst',\n",
       " 'fpwg_disp_perep',\n",
       " 'fpwg_disp_other',\n",
       " 'fpwg_flux_ss',\n",
       " 'fpwg_flux_slflum',\n",
       " 'fpwg_flux_oedp',\n",
       " 'fpwg_flux_vshape',\n",
       " 'fpwg_flux_depth',\n",
       " 'fpwg_flux_dilutn',\n",
       " 'fpwg_flux_lcurve',\n",
       " 'fpwg_flux_ootvar',\n",
       " 'fpwg_flux_corvar',\n",
       " 'fpwg_flux_other',\n",
       " 'fpwg_flux_stellr',\n",
       " 'fpwg_flux_noteb',\n",
       " 'fpwg_offst_sig',\n",
       " 'fpwg_offst_badim',\n",
       " 'fpwg_offst_inval',\n",
       " 'fpwg_offst_vis',\n",
       " 'fpwg_offst_star',\n",
       " 'fpwg_offst_qvars',\n",
       " 'fpwg_offst_other',\n",
       " 'fpwg_offst_nooff',\n",
       " 'fpwg_perep_match',\n",
       " 'fpwg_perep_direc',\n",
       " 'fpwg_perep_col',\n",
       " 'fpwg_perep_ghost',\n",
       " 'fpwg_perep_video',\n",
       " 'fpwg_perep_ref',\n",
       " 'fpwg_fa_starvar',\n",
       " 'fpwg_fa_unique',\n",
       " 'fpwg_fa_thermal',\n",
       " 'fpwg_fa_ntl',\n",
       " 'fpwg_fa_artifact',\n",
       " 'fpwg_fa_other',\n",
       " 'fpwg_fa_notfa',\n",
       " 'fpwg_fop_rvs1',\n",
       " 'fpwg_fop_rvs2',\n",
       " 'fpwg_fop_rvs3',\n",
       " 'fpwg_fop_dblline',\n",
       " 'fpwg_fop_imexam',\n",
       " 'fpwg_fop_imblend',\n",
       " 'fpwg_efp_public',\n",
       " 'fpwg_efp_pubexam',\n",
       " 'fpwg_efp_accept',\n",
       " 'fpwg_obs_ra',\n",
       " 'fpwg_obs_ra_err',\n",
       " 'fpwg_obs_dec',\n",
       " 'fpwg_obs_dec_err',\n",
       " 'fpwg_obs_offst',\n",
       " 'fpwg_obs_off_err',\n",
       " 'fpwg_obs_uncunit',\n",
       " 'fpwg_obs_kepid',\n",
       " 'fpwg_obs_kepmag',\n",
       " 'fpwg_obs_depth',\n",
       " 'fpwg_obs_idprov',\n",
       " 'fpwg_obs_secdep',\n",
       " 'fpwg_obs_albedo',\n",
       " 'fpwg_comment',\n",
       " 'fpwg_tablename',\n",
       " 'fpwg_vet_date',\n",
       " 'kepler_name',\n",
       " 'ra_err',\n",
       " 'ra_str',\n",
       " 'dec_err',\n",
       " 'dec_str',\n",
       " 'koi_gmag',\n",
       " 'koi_gmag_err',\n",
       " 'koi_rmag',\n",
       " 'koi_rmag_err',\n",
       " 'koi_imag',\n",
       " 'koi_imag_err',\n",
       " 'koi_zmag',\n",
       " 'koi_zmag_err',\n",
       " 'koi_jmag',\n",
       " 'koi_jmag_err',\n",
       " 'koi_hmag',\n",
       " 'koi_hmag_err',\n",
       " 'koi_kmag',\n",
       " 'koi_kmag_err',\n",
       " 'koi_kepmag',\n",
       " 'koi_kepmag_err',\n",
       " 'koi_delivname',\n",
       " 'koi_vet_stat',\n",
       " 'koi_quarters',\n",
       " 'koi_disposition',\n",
       " 'koi_pdisposition',\n",
       " 'koi_count',\n",
       " 'koi_num_transits',\n",
       " 'koi_max_sngle_ev',\n",
       " 'koi_max_mult_ev',\n",
       " 'koi_bin_oedp_sig',\n",
       " 'koi_limbdark_mod',\n",
       " 'koi_ldm_coeff4',\n",
       " 'koi_ldm_coeff3',\n",
       " 'koi_ldm_coeff2',\n",
       " 'koi_ldm_coeff1',\n",
       " 'koi_trans_mod',\n",
       " 'koi_model_snr',\n",
       " 'koi_model_dof',\n",
       " 'koi_model_chisq',\n",
       " 'koi_time0bk',\n",
       " 'koi_time0bk_err1',\n",
       " 'koi_time0bk_err2',\n",
       " 'koi_eccen',\n",
       " 'koi_eccen_err1',\n",
       " 'koi_eccen_err2',\n",
       " 'koi_longp',\n",
       " 'koi_longp_err1',\n",
       " 'koi_longp_err2',\n",
       " 'koi_prad',\n",
       " 'koi_prad_err1',\n",
       " 'koi_prad_err2',\n",
       " 'koi_sma',\n",
       " 'koi_sma_err1',\n",
       " 'koi_sma_err2',\n",
       " 'koi_impact',\n",
       " 'koi_impact_err1',\n",
       " 'koi_impact_err2',\n",
       " 'koi_duration',\n",
       " 'koi_duration_err1',\n",
       " 'koi_duration_err2',\n",
       " 'koi_ingress',\n",
       " 'koi_ingress_err1',\n",
       " 'koi_ingress_err2',\n",
       " 'koi_depth',\n",
       " 'koi_depth_err1',\n",
       " 'koi_depth_err2',\n",
       " 'koi_period',\n",
       " 'koi_period_err1',\n",
       " 'koi_period_err2',\n",
       " 'koi_ror',\n",
       " 'koi_ror_err1',\n",
       " 'koi_ror_err2',\n",
       " 'koi_dor',\n",
       " 'koi_dor_err1',\n",
       " 'koi_dor_err2',\n",
       " 'koi_incl',\n",
       " 'koi_incl_err1',\n",
       " 'koi_incl_err2',\n",
       " 'koi_teq',\n",
       " 'koi_teq_err1',\n",
       " 'koi_teq_err2',\n",
       " 'koi_steff',\n",
       " 'koi_steff_err1',\n",
       " 'koi_steff_err2',\n",
       " 'koi_slogg',\n",
       " 'koi_slogg_err1',\n",
       " 'koi_slogg_err2',\n",
       " 'koi_smet',\n",
       " 'koi_smet_err1',\n",
       " 'koi_smet_err2',\n",
       " 'koi_srad',\n",
       " 'koi_srad_err1',\n",
       " 'koi_srad_err2',\n",
       " 'koi_smass',\n",
       " 'koi_smass_err1',\n",
       " 'koi_smass_err2',\n",
       " 'koi_sage',\n",
       " 'koi_sage_err1',\n",
       " 'koi_sage_err2',\n",
       " 'koi_sparprov',\n",
       " 'koi_fwm_stat_sig',\n",
       " 'koi_fwm_sra',\n",
       " 'koi_fwm_sra_err',\n",
       " 'koi_fwm_sdec',\n",
       " 'koi_fwm_sdec_err',\n",
       " 'koi_fwm_srao',\n",
       " 'koi_fwm_srao_err',\n",
       " 'koi_fwm_sdeco',\n",
       " 'koi_fwm_sdeco_err',\n",
       " 'koi_fwm_prao',\n",
       " 'koi_fwm_prao_err',\n",
       " 'koi_fwm_pdeco',\n",
       " 'koi_fwm_pdeco_err',\n",
       " 'koi_dicco_mra',\n",
       " 'koi_dicco_mra_err',\n",
       " 'koi_dicco_mdec',\n",
       " 'koi_dicco_mdec_err',\n",
       " 'koi_dicco_msky',\n",
       " 'koi_dicco_msky_err',\n",
       " 'koi_dikco_mra',\n",
       " 'koi_dikco_mra_err',\n",
       " 'koi_dikco_mdec',\n",
       " 'koi_dikco_mdec_err',\n",
       " 'koi_dikco_msky',\n",
       " 'koi_dikco_msky_err',\n",
       " 'koi_comment',\n",
       " 'koi_vet_date',\n",
       " 'koi_tce_plnt_num',\n",
       " 'koi_tce_delivname',\n",
       " 'koi_datalink_dvs',\n",
       " 'koi_disp_prov',\n",
       " 'koi_parm_prov',\n",
       " 'koi_time0',\n",
       " 'koi_time0_err1',\n",
       " 'koi_time0_err2',\n",
       " 'koi_datalink_dvr',\n",
       " 'koi_fpflag_nt',\n",
       " 'koi_fpflag_ss',\n",
       " 'koi_fpflag_co',\n",
       " 'koi_fpflag_ec',\n",
       " 'koi_insol',\n",
       " 'koi_insol_err1',\n",
       " 'koi_insol_err2',\n",
       " 'koi_srho',\n",
       " 'koi_srho_err1',\n",
       " 'koi_srho_err2',\n",
       " 'koi_fittype',\n",
       " 'koi_score',\n",
       " 'kepid',\n",
       " 'tm_designation',\n",
       " 'teff',\n",
       " 'teff_err1',\n",
       " 'teff_err2',\n",
       " 'logg',\n",
       " 'logg_err1',\n",
       " 'logg_err2',\n",
       " 'feh',\n",
       " 'feh_err1',\n",
       " 'feh_err2',\n",
       " 'mass',\n",
       " 'mass_err1',\n",
       " 'mass_err2',\n",
       " 'radius',\n",
       " 'radius_err1',\n",
       " 'radius_err2',\n",
       " 'dens',\n",
       " 'dens_err1',\n",
       " 'dens_err2',\n",
       " 'prov_sec',\n",
       " 'kepmag',\n",
       " 'limbdark_coeff1',\n",
       " 'limbdark_coeff2',\n",
       " 'limbdark_coeff3',\n",
       " 'limbdark_coeff4',\n",
       " 'dist',\n",
       " 'dist_err1',\n",
       " 'dist_err2',\n",
       " 'nconfp',\n",
       " 'nkoi',\n",
       " 'ntce',\n",
       " 'datalink_dvr',\n",
       " 'st_delivname',\n",
       " 'st_vet_date_str',\n",
       " 'ra',\n",
       " 'dec',\n",
       " 'st_quarters',\n",
       " 'teff_prov',\n",
       " 'logg_prov',\n",
       " 'feh_prov',\n",
       " 'jmag',\n",
       " 'jmag_err',\n",
       " 'hmag',\n",
       " 'hmag_err',\n",
       " 'kmag',\n",
       " 'kmag_err',\n",
       " 'dutycycle',\n",
       " 'dataspan',\n",
       " 'mesthres01p5',\n",
       " 'mesthres02p0',\n",
       " 'mesthres02p5',\n",
       " 'mesthres03p0',\n",
       " 'mesthres03p5',\n",
       " 'mesthres04p5',\n",
       " 'mesthres05p0',\n",
       " 'mesthres06p0',\n",
       " 'mesthres07p5',\n",
       " 'mesthres09p0',\n",
       " 'mesthres10p5',\n",
       " 'mesthres12p0',\n",
       " 'mesthres12p5',\n",
       " 'mesthres15p0',\n",
       " 'rrmscdpp01p5',\n",
       " 'rrmscdpp02p0',\n",
       " 'rrmscdpp02p5',\n",
       " 'rrmscdpp03p0',\n",
       " 'rrmscdpp03p5',\n",
       " 'rrmscdpp04p5',\n",
       " 'rrmscdpp05p0',\n",
       " 'rrmscdpp06p0',\n",
       " 'rrmscdpp07p5',\n",
       " 'rrmscdpp09p0',\n",
       " 'rrmscdpp10p5',\n",
       " 'rrmscdpp12p0',\n",
       " 'rrmscdpp12p5',\n",
       " 'rrmscdpp15p0',\n",
       " 'av',\n",
       " 'av_err1',\n",
       " 'av_err2',\n",
       " 'dutycycle_post',\n",
       " 'dataspan_post',\n",
       " 'timeout01p5',\n",
       " 'timeout02p0',\n",
       " 'timeout02p5',\n",
       " 'timeout03p0',\n",
       " 'timeout03p5',\n",
       " 'timeout04p5',\n",
       " 'timeout05p0',\n",
       " 'timeout06p0',\n",
       " 'timeout07p5',\n",
       " 'timeout09p0',\n",
       " 'timeout10p5',\n",
       " 'timeout12p0',\n",
       " 'timeout12p5',\n",
       " 'timeout15p0',\n",
       " 'timeoutsumry',\n",
       " 'cdppslplong',\n",
       " 'cdppslpshrt']"
      ]
     },
     "execution_count": 9,
     "metadata": {},
     "output_type": "execute_result"
    }
   ],
   "source": [
    "list(cfpTable)"
   ]
  },
  {
   "cell_type": "code",
   "execution_count": null,
   "metadata": {},
   "outputs": [],
   "source": [
    "cfpTable.to_csv(\"cfpTable.csv\")"
   ]
  },
  {
   "cell_type": "markdown",
   "metadata": {},
   "source": [
    "Now add the stellar properties from Berger et al 2018 with improved radii.  This catalog has significantly fewer stars, so the cfp table with Berger will have fewer entries"
   ]
  },
  {
   "cell_type": "code",
   "execution_count": null,
   "metadata": {},
   "outputs": [],
   "source": [
    "from astropy.io import ascii\n",
    "\n",
    "# read the publised table from Berger et. al. \n",
    "gaiaUpdates = ascii.read(\"apj_table1_published.txt\")\n",
    "\n",
    "gaiaUpdatesPd = gaiaUpdates.to_pandas();\n",
    "cfpTableBerger = pd.merge(cfpTable, gaiaUpdatesPd, left_on=\"kepid\", right_on=\"KIC\", how=\"inner\")\n",
    "\n",
    "# for convenience put the Berger radius in the same format as the DR25 radius\n",
    "# copy Gaia radius to the dr25 radius column\n",
    "cfpTableBerger[\"radiusBerger\"] = cfpTableBerger[\"R*\"]\n",
    "# for DR25, err1 is the upper uncertainty, err2 is the lower uncertainty and is < 0\n",
    "# for Gaia, E_R* is the upper uncertainty, E_R* is the lower uncertainty and is > 0\n",
    "cfpTableBerger[\"radiusBerger_err1\"] = cfpTableBerger[\"E_R*\"]\n",
    "cfpTableBerger[\"radiusBerger_err2\"] = -cfpTableBerger[\"e_R*\"]\n"
   ]
  },
  {
   "cell_type": "code",
   "execution_count": null,
   "metadata": {},
   "outputs": [],
   "source": [
    "# correct the planet radii with the new catalog\n",
    "\n",
    "rEarth = 6356.8 # km\n",
    "rSun = 695700 # km\n",
    "\n",
    "cfpTableBerger['corrected_prad'] = cfpTableBerger['koi_ror']*cfpTableBerger['radius']*rSun/rEarth;\n",
    "cfpTableBerger['corrected_prad_err1'] = np.sqrt(cfpTableBerger['koi_ror_err1']**2*cfpTableBerger['radius']**2\n",
    "                                        +cfpTableBerger['koi_ror']**2*cfpTableBerger['radius_err1']**2)*rSun/rEarth;\n",
    "cfpTableBerger['corrected_prad_err2'] = -np.sqrt(cfpTableBerger['koi_ror_err2']**2*cfpTableBerger['radius']**2\n",
    "                                        +cfpTableBerger['koi_ror']**2*cfpTableBerger['radius_err2']**2)*rSun/rEarth;\n"
   ]
  },
  {
   "cell_type": "code",
   "execution_count": null,
   "metadata": {},
   "outputs": [],
   "source": [
    "cfpTableBerger.to_csv(\"cfpTable_Berger2018.csv\")"
   ]
  },
  {
   "cell_type": "code",
   "execution_count": null,
   "metadata": {
    "scrolled": false
   },
   "outputs": [],
   "source": [
    "list(cfpTableBerger)"
   ]
  },
  {
   "cell_type": "code",
   "execution_count": null,
   "metadata": {},
   "outputs": [],
   "source": [
    "plt.hist(cfpTableBerger.radiusBerger/cfpTableBerger.radius, 1000);\n",
    "plt.xlim(0,5)"
   ]
  },
  {
   "cell_type": "code",
   "execution_count": null,
   "metadata": {},
   "outputs": [],
   "source": []
  }
 ],
 "metadata": {
  "kernelspec": {
   "display_name": "Python 2",
   "language": "python",
   "name": "python2"
  },
  "language_info": {
   "codemirror_mode": {
    "name": "ipython",
    "version": 2
   },
   "file_extension": ".py",
   "mimetype": "text/x-python",
   "name": "python",
   "nbconvert_exporter": "python",
   "pygments_lexer": "ipython2",
   "version": "2.7.15"
  }
 },
 "nbformat": 4,
 "nbformat_minor": 2
}
