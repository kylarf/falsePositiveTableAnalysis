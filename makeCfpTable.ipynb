{
 "cells": [
  {
   "cell_type": "code",
   "execution_count": 1,
   "metadata": {},
   "outputs": [],
   "source": [
    "import numpy as np\n",
    "import matplotlib.pyplot as plt\n",
    "import scipy.special as spec\n",
    "import pandas as pd\n",
    "from astropy.io import ascii\n",
    "import scipy.stats as stats\n",
    "from ipywidgets import FloatProgress\n",
    "from IPython.display import display\n",
    "import requests\n",
    "import astropy.units as u\n",
    "from astropy.coordinates import SkyCoord"
   ]
  },
  {
   "cell_type": "markdown",
   "metadata": {},
   "source": [
    "Get the KOI catalog from the archive (if we don't already have it)"
   ]
  },
  {
   "cell_type": "code",
   "execution_count": 2,
   "metadata": {},
   "outputs": [
    {
     "name": "stdout",
     "output_type": "stream",
     "text": [
      "Loaded 8054 KOIs\n"
     ]
    }
   ],
   "source": [
    "if False:\n",
    "    urlDr25Koi = \"https://exoplanetarchive.ipac.caltech.edu/cgi-bin/nstedAPI/nph-nstedAPI?table=q1_q17_dr25_koi&select\"\n",
    "\n",
    "    r = requests.get(urlDr25Koi)\n",
    "    if r.status_code != requests.codes.ok:\n",
    "        r.raise_for_status()\n",
    "    fh = StringIO(r.content)\n",
    "    dr25Koi = pd.read_csv(fh, dtype={\"kepoi_name\":str})\n",
    "    dr25Koi.to_csv(\"dr25_kois_archive.txt\", index=False)\n",
    "else:\n",
    "    dr25Koi = pd.read_csv(\"dr25_kois_archive.txt\", dtype={\"kepoi_name\":str})\n",
    "\n",
    "print(\"Loaded \" + str(len(dr25Koi)) + \" KOIs\")\n",
    "\n"
   ]
  },
  {
   "cell_type": "markdown",
   "metadata": {},
   "source": [
    "Get the certified false positive table.  We have to download it manually."
   ]
  },
  {
   "cell_type": "code",
   "execution_count": 3,
   "metadata": {},
   "outputs": [],
   "source": [
    "cfpTableName = \"fpwg_2019.09.16_18.35.55.csv\"\n",
    "archiveCfpTable = pd.read_csv(cfpTableName, dtype={\"kepoi_name\":str}, header=71)\n"
   ]
  },
  {
   "cell_type": "code",
   "execution_count": null,
   "metadata": {},
   "outputs": [],
   "source": []
  },
  {
   "cell_type": "markdown",
   "metadata": {},
   "source": [
    "Get the DR25 stellar catalog with updates from Savita's supplement"
   ]
  },
  {
   "cell_type": "code",
   "execution_count": 4,
   "metadata": {},
   "outputs": [],
   "source": [
    "starlist = \"dr25_stellar_updated_feh_all.txt\"\n",
    "kic = pd.read_csv(starlist)\n"
   ]
  },
  {
   "cell_type": "markdown",
   "metadata": {},
   "source": [
    "Now we'll merge these tables together, starting by merging the cfpTable and dr25Koi, using kepoi_name as the key."
   ]
  },
  {
   "cell_type": "code",
   "execution_count": 5,
   "metadata": {},
   "outputs": [],
   "source": [
    "cfpTable = pd.merge(archiveCfpTable, dr25Koi, on=\"kepoi_name\", how=\"inner\")\n",
    "# the only column common to both is kepid, so rename kepid_x to kepid and drop kepid_y\n",
    "cfpTable[\"kepid\"] = cfpTable[\"kepid_x\"]\n",
    "cfpTable = cfpTable.drop([\"kepid_x\", \"kepid_y\"], axis=1)\n"
   ]
  },
  {
   "cell_type": "markdown",
   "metadata": {},
   "source": [
    "Now merge with the stellar table, using \"kepid\" as the key"
   ]
  },
  {
   "cell_type": "code",
   "execution_count": 6,
   "metadata": {},
   "outputs": [],
   "source": [
    "cfpTable = pd.merge(cfpTable, kic, on=\"kepid\", how=\"inner\")\n"
   ]
  },
  {
   "cell_type": "code",
   "execution_count": 7,
   "metadata": {},
   "outputs": [
    {
     "data": {
      "text/plain": [
       "8054"
      ]
     },
     "execution_count": 7,
     "metadata": {},
     "output_type": "execute_result"
    }
   ],
   "source": [
    "len(cfpTable)"
   ]
  },
  {
   "cell_type": "markdown",
   "metadata": {},
   "source": [
    "Now cfpTable contains everything we want to know about each entry"
   ]
  },
  {
   "cell_type": "markdown",
   "metadata": {},
   "source": [
    "Let's add Galactic coordinates"
   ]
  },
  {
   "cell_type": "code",
   "execution_count": 8,
   "metadata": {},
   "outputs": [],
   "source": [
    "c = SkyCoord(ra=cfpTable.ra*u.degree, dec=cfpTable.dec*u.degree, frame='icrs')\n",
    "galLong = np.array(c.galactic.l)\n",
    "galLat = np.array(c.galactic.b)\n",
    "cfpTable[\"galLong\"] = galLong\n",
    "cfpTable[\"galLat\"] = galLat\n"
   ]
  },
  {
   "cell_type": "code",
   "execution_count": 9,
   "metadata": {
    "scrolled": false
   },
   "outputs": [
    {
     "data": {
      "text/plain": [
       "['rowid',\n",
       " 'kepoi_name',\n",
       " 'fpwg_koi_period',\n",
       " 'fpwg_disp_status',\n",
       " 'fpwg_disp_source',\n",
       " 'fpwg_disp_eb',\n",
       " 'fpwg_disp_offst',\n",
       " 'fpwg_disp_perep',\n",
       " 'fpwg_disp_other',\n",
       " 'fpwg_flux_ss',\n",
       " 'fpwg_flux_slflum',\n",
       " 'fpwg_flux_oedp',\n",
       " 'fpwg_flux_vshape',\n",
       " 'fpwg_flux_depth',\n",
       " 'fpwg_flux_dilutn',\n",
       " 'fpwg_flux_lcurve',\n",
       " 'fpwg_flux_ootvar',\n",
       " 'fpwg_flux_corvar',\n",
       " 'fpwg_flux_other',\n",
       " 'fpwg_flux_stellr',\n",
       " 'fpwg_flux_noteb',\n",
       " 'fpwg_offst_sig',\n",
       " 'fpwg_offst_badim',\n",
       " 'fpwg_offst_inval',\n",
       " 'fpwg_offst_vis',\n",
       " 'fpwg_offst_star',\n",
       " 'fpwg_offst_qvars',\n",
       " 'fpwg_offst_other',\n",
       " 'fpwg_offst_nooff',\n",
       " 'fpwg_perep_match',\n",
       " 'fpwg_perep_direc',\n",
       " 'fpwg_perep_col',\n",
       " 'fpwg_perep_ghost',\n",
       " 'fpwg_perep_video',\n",
       " 'fpwg_perep_ref',\n",
       " 'fpwg_fa_starvar',\n",
       " 'fpwg_fa_unique',\n",
       " 'fpwg_fa_thermal',\n",
       " 'fpwg_fa_ntl',\n",
       " 'fpwg_fa_artifact',\n",
       " 'fpwg_fa_other',\n",
       " 'fpwg_fa_notfa',\n",
       " 'fpwg_fop_rvs1',\n",
       " 'fpwg_fop_rvs2',\n",
       " 'fpwg_fop_rvs3',\n",
       " 'fpwg_fop_dblline',\n",
       " 'fpwg_fop_imexam',\n",
       " 'fpwg_fop_imblend',\n",
       " 'fpwg_efp_public',\n",
       " 'fpwg_efp_pubexam',\n",
       " 'fpwg_efp_accept',\n",
       " 'fpwg_obs_ra',\n",
       " 'fpwg_obs_ra_err',\n",
       " 'fpwg_obs_dec',\n",
       " 'fpwg_obs_dec_err',\n",
       " 'fpwg_obs_offst',\n",
       " 'fpwg_obs_off_err',\n",
       " 'fpwg_obs_uncunit',\n",
       " 'fpwg_obs_kepid',\n",
       " 'fpwg_obs_kepmag',\n",
       " 'fpwg_obs_depth',\n",
       " 'fpwg_obs_idprov',\n",
       " 'fpwg_obs_secdep',\n",
       " 'fpwg_obs_albedo',\n",
       " 'fpwg_comment',\n",
       " 'fpwg_tablename',\n",
       " 'fpwg_vet_date',\n",
       " 'kepler_name',\n",
       " 'koi_disposition',\n",
       " 'koi_pdisposition',\n",
       " 'koi_score',\n",
       " 'koi_fpflag_nt',\n",
       " 'koi_fpflag_ss',\n",
       " 'koi_fpflag_co',\n",
       " 'koi_fpflag_ec',\n",
       " 'koi_period',\n",
       " 'koi_period_err1',\n",
       " 'koi_period_err2',\n",
       " 'koi_time0bk',\n",
       " 'koi_time0bk_err1',\n",
       " 'koi_time0bk_err2',\n",
       " 'koi_impact',\n",
       " 'koi_impact_err1',\n",
       " 'koi_impact_err2',\n",
       " 'koi_duration',\n",
       " 'koi_duration_err1',\n",
       " 'koi_duration_err2',\n",
       " 'koi_depth',\n",
       " 'koi_depth_err1',\n",
       " 'koi_depth_err2',\n",
       " 'koi_prad',\n",
       " 'koi_prad_err1',\n",
       " 'koi_prad_err2',\n",
       " 'koi_teq',\n",
       " 'koi_teq_err1',\n",
       " 'koi_teq_err2',\n",
       " 'koi_insol',\n",
       " 'koi_insol_err1',\n",
       " 'koi_insol_err2',\n",
       " 'koi_model_snr',\n",
       " 'koi_tce_plnt_num',\n",
       " 'koi_tce_delivname',\n",
       " 'koi_steff',\n",
       " 'koi_steff_err1',\n",
       " 'koi_steff_err2',\n",
       " 'koi_slogg',\n",
       " 'koi_slogg_err1',\n",
       " 'koi_slogg_err2',\n",
       " 'koi_srad',\n",
       " 'koi_srad_err1',\n",
       " 'koi_srad_err2',\n",
       " 'ra_str',\n",
       " 'dec_str',\n",
       " 'koi_kepmag',\n",
       " 'koi_kepmag_err',\n",
       " 'kepid',\n",
       " 'tm_designation',\n",
       " 'teff',\n",
       " 'teff_err1',\n",
       " 'teff_err2',\n",
       " 'logg',\n",
       " 'logg_err1',\n",
       " 'logg_err2',\n",
       " 'feh',\n",
       " 'feh_err1',\n",
       " 'feh_err2',\n",
       " 'mass',\n",
       " 'mass_err1',\n",
       " 'mass_err2',\n",
       " 'radius',\n",
       " 'radius_err1',\n",
       " 'radius_err2',\n",
       " 'dens',\n",
       " 'dens_err1',\n",
       " 'dens_err2',\n",
       " 'prov_sec',\n",
       " 'kepmag',\n",
       " 'limbdark_coeff1',\n",
       " 'limbdark_coeff2',\n",
       " 'limbdark_coeff3',\n",
       " 'limbdark_coeff4',\n",
       " 'dist',\n",
       " 'dist_err1',\n",
       " 'dist_err2',\n",
       " 'nconfp',\n",
       " 'nkoi',\n",
       " 'ntce',\n",
       " 'datalink_dvr',\n",
       " 'st_delivname',\n",
       " 'st_vet_date_str',\n",
       " 'ra',\n",
       " 'dec',\n",
       " 'st_quarters',\n",
       " 'teff_prov',\n",
       " 'logg_prov',\n",
       " 'feh_prov',\n",
       " 'jmag',\n",
       " 'jmag_err',\n",
       " 'hmag',\n",
       " 'hmag_err',\n",
       " 'kmag',\n",
       " 'kmag_err',\n",
       " 'dutycycle',\n",
       " 'dataspan',\n",
       " 'mesthres01p5',\n",
       " 'mesthres02p0',\n",
       " 'mesthres02p5',\n",
       " 'mesthres03p0',\n",
       " 'mesthres03p5',\n",
       " 'mesthres04p5',\n",
       " 'mesthres05p0',\n",
       " 'mesthres06p0',\n",
       " 'mesthres07p5',\n",
       " 'mesthres09p0',\n",
       " 'mesthres10p5',\n",
       " 'mesthres12p0',\n",
       " 'mesthres12p5',\n",
       " 'mesthres15p0',\n",
       " 'rrmscdpp01p5',\n",
       " 'rrmscdpp02p0',\n",
       " 'rrmscdpp02p5',\n",
       " 'rrmscdpp03p0',\n",
       " 'rrmscdpp03p5',\n",
       " 'rrmscdpp04p5',\n",
       " 'rrmscdpp05p0',\n",
       " 'rrmscdpp06p0',\n",
       " 'rrmscdpp07p5',\n",
       " 'rrmscdpp09p0',\n",
       " 'rrmscdpp10p5',\n",
       " 'rrmscdpp12p0',\n",
       " 'rrmscdpp12p5',\n",
       " 'rrmscdpp15p0',\n",
       " 'av',\n",
       " 'av_err1',\n",
       " 'av_err2',\n",
       " 'dutycycle_post',\n",
       " 'dataspan_post',\n",
       " 'timeout01p5',\n",
       " 'timeout02p0',\n",
       " 'timeout02p5',\n",
       " 'timeout03p0',\n",
       " 'timeout03p5',\n",
       " 'timeout04p5',\n",
       " 'timeout05p0',\n",
       " 'timeout06p0',\n",
       " 'timeout07p5',\n",
       " 'timeout09p0',\n",
       " 'timeout10p5',\n",
       " 'timeout12p0',\n",
       " 'timeout12p5',\n",
       " 'timeout15p0',\n",
       " 'timeoutsumry',\n",
       " 'cdppslplong',\n",
       " 'cdppslpshrt',\n",
       " 'galLong',\n",
       " 'galLat']"
      ]
     },
     "execution_count": 9,
     "metadata": {},
     "output_type": "execute_result"
    }
   ],
   "source": [
    "list(cfpTable)"
   ]
  },
  {
   "cell_type": "code",
   "execution_count": 10,
   "metadata": {},
   "outputs": [],
   "source": [
    "cfpTable.to_csv(\"cfpTable.csv\")"
   ]
  }
 ],
 "metadata": {
  "kernelspec": {
   "display_name": "Python 3",
   "language": "python",
   "name": "python3"
  },
  "language_info": {
   "codemirror_mode": {
    "name": "ipython",
    "version": 3
   },
   "file_extension": ".py",
   "mimetype": "text/x-python",
   "name": "python",
   "nbconvert_exporter": "python",
   "pygments_lexer": "ipython3",
   "version": "3.7.3"
  }
 },
 "nbformat": 4,
 "nbformat_minor": 2
}
